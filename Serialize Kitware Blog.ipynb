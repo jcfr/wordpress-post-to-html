{
 "cells": [
  {
   "cell_type": "code",
   "execution_count": 1,
   "metadata": {},
   "outputs": [],
   "source": [
    "%load_ext autoreload\n",
    "%autoreload 2"
   ]
  },
  {
   "cell_type": "code",
   "execution_count": null,
   "metadata": {},
   "outputs": [],
   "source": [
    "import download_posts"
   ]
  },
  {
   "cell_type": "code",
   "execution_count": null,
   "metadata": {},
   "outputs": [],
   "source": [
    "POSTS_DIR = \"posts\"\n",
    "\n",
    "\n",
    "soup = download_posts.fetch_post_as_soup(\"23291\")\n",
    "\n",
    "#download_posts.save_posts(data_dir=\"posts\")"
   ]
  },
  {
   "cell_type": "code",
   "execution_count": null,
   "metadata": {},
   "outputs": [],
   "source": [
    "soup"
   ]
  },
  {
   "cell_type": "code",
   "execution_count": null,
   "metadata": {},
   "outputs": [],
   "source": [
    "!pip install selenium"
   ]
  },
  {
   "cell_type": "code",
   "execution_count": null,
   "metadata": {},
   "outputs": [],
   "source": [
    "import os\n",
    "original_path = os.environ[\"PATH\"]"
   ]
  },
  {
   "cell_type": "code",
   "execution_count": null,
   "metadata": {},
   "outputs": [],
   "source": [
    "# See https://stackoverflow.com/questions/46753393/how-to-make-firefox-headless-programatically-in-selenium-with-python\n",
    "\n",
    "extra_paths = [\n",
    "    \"/home/jcfr/Software/firefox-57.0/\",\n",
    "    \"/home/jcfr/Projects/kwblog-data\"\n",
    "]\n",
    "\n",
    "os.environ[\"PATH\"] = \":\".join(extra_paths) + \":\" + original_path\n",
    "\n",
    "from selenium import webdriver\n",
    "from selenium.webdriver.firefox.options import Options\n",
    "\n",
    "options = Options()\n",
    "options.set_headless(headless=True)\n",
    "driver = webdriver.Firefox(firefox_options=options)\n",
    "driver.implicitly_wait(1)\n",
    "print(\"Firefox Headless Browser Invoked\")\n",
    "\n",
    "      "
   ]
  },
  {
   "cell_type": "code",
   "execution_count": null,
   "metadata": {},
   "outputs": [],
   "source": [
    "from selenium.webdriver.common.by import By\n",
    "from selenium.webdriver.support.ui import WebDriverWait\n",
    "from selenium.webdriver.support import expected_conditions as EC\n",
    "\n",
    "#my_url = \"https://blog.kitware.com/avogadro-1-91-released/\"\n",
    "my_url = \"https://blog.kitware.com/slicervirtualreality/\"\n",
    "\n",
    "\n",
    "driver.get(my_url)\n",
    "\n",
    "element = WebDriverWait(driver, 5).until(\n",
    "    EC.presence_of_element_located((By.CLASS_NAME, \"post-views-count\"))\n",
    ")\n",
    "\n",
    "\n",
    "print(element)\n"
   ]
  },
  {
   "cell_type": "code",
   "execution_count": null,
   "metadata": {},
   "outputs": [],
   "source": [
    "%load_ext autoreload\n",
    "%autoreload 2"
   ]
  },
  {
   "cell_type": "code",
   "execution_count": null,
   "metadata": {},
   "outputs": [],
   "source": [
    "from joblib import Parallel, delayed\n",
    "\n",
    "import download_posts\n",
    "\n",
    "\n",
    "last_page=0\n",
    "\n",
    "r = Parallel(n_jobs=10, verbose=10)(\n",
    "    delayed(download_posts.save_posts)(\n",
    "        last_page=page_number,\n",
    "        first_page=page_number,\n",
    "        data_dir=\"posts\"\n",
    "    )\n",
    "    for page_number in download_posts.page_range(last_page=last_page)\n",
    ")\n",
    "\n",
    "#Parallel(n_jobs=N_JOBS, backend='threading')(\n",
    "#        delayed(handle_item)(item, newFolder, depth + 1, bc) for item in items)"
   ]
  },
  {
   "cell_type": "code",
   "execution_count": 2,
   "metadata": {},
   "outputs": [],
   "source": [
    "%reload_ext autoreload\n",
    "%autoreload 2\n",
    "\n",
    "import download_posts as dp\n",
    "#soup = dp.fetch_post_as_soup(13304)"
   ]
  },
  {
   "cell_type": "code",
   "execution_count": 3,
   "metadata": {},
   "outputs": [],
   "source": [
    "import glob\n",
    "import os\n",
    "\n",
    "from bs4 import BeautifulSoup\n",
    "\n",
    "#hosts = [\"midas3.kitware.com\", \"midas.kitware.com\"]\n",
    "hosts = [\"visomics.org\"]\n",
    "\n",
    "references_per_year = {}\n",
    "\n",
    "for html_filepath in glob.glob('posts/*.html'):\n",
    "    metadata_filepath = os.path.splitext(html_filepath)[0] + \".json\"\n",
    "    metadata = dp.load_metadata(metadata_filepath)\n",
    "\n",
    "    year = metadata[\"date\"].split(\",\")[1].strip()   \n",
    "    metadata[\"year\"] = year\n",
    "    \n",
    "    with open(html_filepath) as content:\n",
    "        soup = BeautifulSoup(content, 'html.parser')\n",
    "    \n",
    "    references = []\n",
    "    \n",
    "    for host in hosts:\n",
    "        for a_tag in soup.select('a[href*=\"%s\"]' % host):\n",
    "            references.append((a_tag.text.strip(), a_tag[\"href\"],))\n",
    "    \n",
    "    if references:\n",
    "        if year not in references_per_year:\n",
    "            references_per_year[year] = {}\n",
    "\n",
    "        year_references = references_per_year[year]\n",
    "\n",
    "        year_references[metadata[\"id\"]] = {\"references\": references, \"metadata\": metadata}\n",
    "    "
   ]
  },
  {
   "cell_type": "code",
   "execution_count": 4,
   "metadata": {
    "scrolled": true
   },
   "outputs": [
    {
     "name": "stdout",
     "output_type": "stream",
     "text": [
      "\n",
      "## 2012\n",
      "\n",
      "### [January 2012 – Recent Releases](https://blog.kitware.com/?p=13267) (post_id: 13267)\n",
      "* [ ] www.visomics.org: http://www.visomics.org\n",
      "\n",
      "### [SPIE Medical Imaging 2012](https://blog.kitware.com/?p=12866) (post_id: 12866)\n",
      "* [ ] http://www.visomics.org/\n",
      "\n",
      "### [Kitware Introduces Visomics for Bioinformatics](https://blog.kitware.com/?p=11951) (post_id: 11951)\n",
      "* [ ] http://www.visomics.org: http://www.visomics.org/\n",
      "\n",
      "### [Future of Medicine: Information Aggregation and Visualization](https://blog.kitware.com/?p=12869) (post_id: 12869)\n",
      "* [ ] Visomics: http://www.visomics.org/\n",
      "\n",
      "## 2013\n",
      "\n",
      "### [ITK Workshop at the University of Houston](https://blog.kitware.com/?p=12710) (post_id: 12710)\n",
      "* [ ] Visomics: http://www.visomics.org/\n",
      "\n",
      "## 2014\n",
      "\n",
      "### [VIZBI Tutorial: Open Source Visualization, Analytics, and Informatics Tools](https://blog.kitware.com/?p=12615) (post_id: 12615)\n",
      "* [ ] Visomics: http://www.visomics.org/\n"
     ]
    }
   ],
   "source": [
    "for year in sorted(references_per_year.keys()):\n",
    "    year_references = references_per_year[year]\n",
    "    print(\"\\n## %s\" % year)\n",
    "    for post_id, post_info in year_references.items():\n",
    "        metadata = post_info[\"metadata\"]\n",
    "        references = post_info[\"references\"]\n",
    "        print(\"\\n### [{title}](https://blog.kitware.com/?p={id}) (post_id: {id})\".format(**metadata))\n",
    "        for reference in references:\n",
    "            if reference[0] == reference[1]:\n",
    "                print(\"* [ ] %s\" % reference[0])\n",
    "            else:\n",
    "                print(\"* [ ] %s: %s\" % reference)"
   ]
  },
  {
   "cell_type": "code",
   "execution_count": 29,
   "metadata": {},
   "outputs": [],
   "source": [
    "import download_posts"
   ]
  },
  {
   "cell_type": "code",
   "execution_count": 30,
   "metadata": {},
   "outputs": [
    {
     "name": "stderr",
     "output_type": "stream",
     "text": [
      "[Parallel(n_jobs=10)]: Using backend LokyBackend with 10 concurrent workers.\n",
      "[Parallel(n_jobs=10)]: Done   1 tasks      | elapsed:    1.7s\n",
      "[Parallel(n_jobs=10)]: Done   1 out of   1 | elapsed:    1.7s finished\n"
     ]
    }
   ],
   "source": [
    "\n",
    "\n",
    "#download_posts.list_post_with_default_feature_image()\n",
    "\n",
    "download_posts.parallel_list_post_with_default_feature_image(last_page=1)\n",
    "\n"
   ]
  }
 ],
 "metadata": {
  "kernelspec": {
   "display_name": "Python 3",
   "language": "python",
   "name": "python3"
  },
  "language_info": {
   "codemirror_mode": {
    "name": "ipython",
    "version": 3
   },
   "file_extension": ".py",
   "mimetype": "text/x-python",
   "name": "python",
   "nbconvert_exporter": "python",
   "pygments_lexer": "ipython3",
   "version": "3.5.0+"
  }
 },
 "nbformat": 4,
 "nbformat_minor": 2
}
